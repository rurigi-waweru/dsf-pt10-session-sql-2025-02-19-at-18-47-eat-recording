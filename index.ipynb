{
 "cells": [
  {
   "cell_type": "code",
   "execution_count": 6,
   "metadata": {},
   "outputs": [],
   "source": [
    "import pandas as pd \n",
    "import sqlite3"
   ]
  },
  {
   "cell_type": "code",
   "execution_count": 7,
   "metadata": {},
   "outputs": [],
   "source": [
    "# connection\n",
    "con = sqlite3.connect('test-db.db')"
   ]
  },
  {
   "cell_type": "code",
   "execution_count": 8,
   "metadata": {},
   "outputs": [],
   "source": [
    "# cursor-object \n",
    "# helps execute any-command in this platform\n",
    "cur = con.cursor()"
   ]
  },
  {
   "cell_type": "markdown",
   "metadata": {},
   "source": [
    "# From Previous Class"
   ]
  },
  {
   "cell_type": "code",
   "execution_count": 9,
   "metadata": {},
   "outputs": [],
   "source": [
    "# Create A DATABASE\n",
    "cur.execute('''\n",
    "CREATE TABLE IF NOT EXISTS employees(\n",
    "            id INT PRIMARY KEY,\n",
    "            name TEXT,\n",
    "            age INT,\n",
    "            dept VARCHAR,\n",
    "            salary INT\n",
    "            )\n",
    "'''\n",
    ");"
   ]
  },
  {
   "cell_type": "code",
   "execution_count": 10,
   "metadata": {},
   "outputs": [],
   "source": [
    "# INSERTING data into the TABLE\n",
    "cur.execute(\"\"\"\n",
    "            INSERT INTO employees(\n",
    "                id, name, age, dept, salary\n",
    "            )VALUES\n",
    "            (1, 'BRIAN', 30, 'EDU', 120000),\n",
    "            (2, 'SAMUEL', 15, 'IT', 540000),\n",
    "            (3, 'PAMELA', 50, 'UON', 256000)\n",
    "            \"\"\");\n",
    "con.commit()\n"
   ]
  },
  {
   "cell_type": "code",
   "execution_count": 11,
   "metadata": {},
   "outputs": [
    {
     "data": {
      "text/plain": [
       "[]"
      ]
     },
     "execution_count": 11,
     "metadata": {},
     "output_type": "execute_result"
    }
   ],
   "source": [
    "con.execute('''\n",
    "            SELECT * FROM employees\n",
    "''');\n",
    "rows = cur.fetchall()\n",
    "# display the result\n",
    "rows"
   ]
  },
  {
   "cell_type": "code",
   "execution_count": null,
   "metadata": {},
   "outputs": [
    {
     "name": "stdout",
     "output_type": "stream",
     "text": [
      "(1, 'BRIAN', 30, 'EDU', 120000)\n",
      "(2, 'SAMUEL', 15, 'IT', 540000)\n",
      "(3, 'PAMELA', 50, 'UON', 256000)\n"
     ]
    },
    {
     "data": {
      "text/plain": [
       "[(1, 'BRIAN', 30, 'EDU', 120000),\n",
       " (2, 'SAMUEL', 15, 'IT', 540000),\n",
       " (3, 'PAMELA', 50, 'UON', 256000)]"
      ]
     },
     "execution_count": 12,
     "metadata": {},
     "output_type": "execute_result"
    }
   ],
   "source": [
    "# Fetching the data\n",
    "cur.execute(\"SELECT * FROM employees\")\n",
    "rows = cur.fetchall()\n",
    "for row in rows:\n",
    "    print(row)\n",
    "\n",
    "# OR\n",
    "# rows"
   ]
  },
  {
   "cell_type": "code",
   "execution_count": 13,
   "metadata": {},
   "outputs": [],
   "source": [
    "# adding more similar\n",
    "cur.execute(\"\"\"\n",
    "    INSERT INTO employees(\n",
    "        id, name, age, dept, salary\n",
    "    ) VALUES\n",
    "    (7, 'BRIAN', 30, 'EDU', 120000),\n",
    "    (8, 'SAMUEL', 15, 'IT', 540000),\n",
    "    (9, 'PAMELA', 50, 'UON', 256000)\n",
    "\"\"\");\n",
    "con.commit()"
   ]
  },
  {
   "cell_type": "markdown",
   "metadata": {},
   "source": [
    "# 23-02-2025 Class"
   ]
  },
  {
   "cell_type": "code",
   "execution_count": null,
   "metadata": {},
   "outputs": [],
   "source": []
  },
  {
   "cell_type": "markdown",
   "metadata": {},
   "source": [
    "on minute 35.50"
   ]
  },
  {
   "cell_type": "code",
   "execution_count": 14,
   "metadata": {},
   "outputs": [],
   "source": [
    "# adding more similar\n",
    "cur.execute(\"\"\"\n",
    "    INSERT INTO employees(\n",
    "        id, name, age, dept, salary\n",
    "    ) VALUES\n",
    "    (10, 'Lucy', 33, 'ICT', 30000),\n",
    "    (11, 'Pamela', 40, 'Finance', 80000),\n",
    "    (12, 'Makena', 32, 'IT', 120000),\n",
    "    (13, 'Jabes', 50, 'Operations', 95000)\n",
    "\"\"\");\n",
    "con.commit()"
   ]
  },
  {
   "cell_type": "code",
   "execution_count": 15,
   "metadata": {},
   "outputs": [
    {
     "data": {
      "text/plain": [
       "[(1, 'BRIAN', 30, 'EDU', 120000),\n",
       " (2, 'SAMUEL', 15, 'IT', 540000),\n",
       " (3, 'PAMELA', 50, 'UON', 256000),\n",
       " (7, 'BRIAN', 30, 'EDU', 120000),\n",
       " (8, 'SAMUEL', 15, 'IT', 540000),\n",
       " (9, 'PAMELA', 50, 'UON', 256000),\n",
       " (10, 'Lucy', 33, 'ICT', 30000),\n",
       " (11, 'Pamela', 40, 'Finance', 80000),\n",
       " (12, 'Makena', 32, 'IT', 120000),\n",
       " (13, 'Jabes', 50, 'Operations', 95000)]"
      ]
     },
     "execution_count": 15,
     "metadata": {},
     "output_type": "execute_result"
    }
   ],
   "source": [
    "cur.execute('''SELECT * FROM employees''')\n",
    "con.commit()\n",
    "rows = cur.fetchall()\n",
    "rows"
   ]
  },
  {
   "cell_type": "markdown",
   "metadata": {},
   "source": [
    "# AS aliases"
   ]
  },
  {
   "cell_type": "code",
   "execution_count": 28,
   "metadata": {},
   "outputs": [
    {
     "data": {
      "text/plain": [
       "[(215700.0,)]"
      ]
     },
     "execution_count": 28,
     "metadata": {},
     "output_type": "execute_result"
    }
   ],
   "source": [
    "# fetching aliases (AS)\n",
    "cur.execute('''SELECT AVG(salary) AS avg_salary  FROM employees\n",
    "            ''');\n",
    "con.commit()\n",
    "rows = cur.fetchall()\n",
    "rows"
   ]
  },
  {
   "cell_type": "code",
   "execution_count": 29,
   "metadata": {},
   "outputs": [],
   "source": [
    "import math\n",
    "import numpy as np\n",
    "# np.mean(rows)"
   ]
  },
  {
   "cell_type": "code",
   "execution_count": 31,
   "metadata": {},
   "outputs": [
    {
     "data": {
      "text/plain": [
       "[('ICT', 30000.0),\n",
       " ('Finance', 80000.0),\n",
       " ('Operations', 95000.0),\n",
       " ('EDU', 120000.0),\n",
       " ('UON', 256000.0),\n",
       " ('IT', 400000.0)]"
      ]
     },
     "execution_count": 31,
     "metadata": {},
     "output_type": "execute_result"
    }
   ],
   "source": [
    "# fetching aliases (AS)\n",
    "cur.execute('''SELECT dept, AVG(salary) AS avg_salary  FROM employees\n",
    "            GROUP  BY dept\n",
    "            ORDER BY salary ASC\n",
    "            ''');\n",
    "con.commit()\n",
    "rows = cur.fetchall()\n",
    "rows"
   ]
  },
  {
   "cell_type": "code",
   "execution_count": 32,
   "metadata": {},
   "outputs": [
    {
     "data": {
      "text/plain": [
       "[('IT', 400000.0),\n",
       " ('UON', 256000.0),\n",
       " ('EDU', 120000.0),\n",
       " ('Operations', 95000.0),\n",
       " ('Finance', 80000.0),\n",
       " ('ICT', 30000.0)]"
      ]
     },
     "execution_count": 32,
     "metadata": {},
     "output_type": "execute_result"
    }
   ],
   "source": [
    "# fetching aliases (AS)\n",
    "cur.execute('''SELECT dept, AVG(salary) AS avg_salary  FROM employees\n",
    "            GROUP  BY dept\n",
    "            ORDER BY salary DESC\n",
    "            ''');\n",
    "con.commit()\n",
    "rows = cur.fetchall()\n",
    "rows"
   ]
  },
  {
   "cell_type": "markdown",
   "metadata": {},
   "source": [
    "# CASE STATEMENT"
   ]
  },
  {
   "cell_type": "code",
   "execution_count": null,
   "metadata": {},
   "outputs": [],
   "source": []
  },
  {
   "cell_type": "markdown",
   "metadata": {},
   "source": [
    "# LIKE: Conditional Statement"
   ]
  },
  {
   "cell_type": "code",
   "execution_count": 35,
   "metadata": {},
   "outputs": [
    {
     "data": {
      "text/plain": [
       "[(2, 'SAMUEL', 15, 'IT', 540000),\n",
       " (3, 'PAMELA', 50, 'UON', 256000),\n",
       " (8, 'SAMUEL', 15, 'IT', 540000),\n",
       " (9, 'PAMELA', 50, 'UON', 256000),\n",
       " (11, 'Pamela', 40, 'Finance', 80000),\n",
       " (12, 'Makena', 32, 'IT', 120000),\n",
       " (13, 'Jabes', 50, 'Operations', 95000)]"
      ]
     },
     "execution_count": 35,
     "metadata": {},
     "output_type": "execute_result"
    }
   ],
   "source": [
    "# data filtering using conditional operator \n",
    "# (is null, between, is NOT null)\n",
    "cur.execute('''\n",
    "        SELECT * FROM employees\n",
    "        WHERE name LIKE '_A_%'\n",
    "''');\n",
    "con.commit()\n",
    "rows = cur.fetchall()\n",
    "rows\n"
   ]
  },
  {
   "cell_type": "code",
   "execution_count": 36,
   "metadata": {},
   "outputs": [
    {
     "data": {
      "text/plain": [
       "[(2, 'SAMUEL', 15, 'IT', 540000),\n",
       " (3, 'PAMELA', 50, 'UON', 256000),\n",
       " (8, 'SAMUEL', 15, 'IT', 540000),\n",
       " (9, 'PAMELA', 50, 'UON', 256000),\n",
       " (11, 'Pamela', 40, 'Finance', 80000),\n",
       " (12, 'Makena', 32, 'IT', 120000),\n",
       " (13, 'Jabes', 50, 'Operations', 95000)]"
      ]
     },
     "execution_count": 36,
     "metadata": {},
     "output_type": "execute_result"
    }
   ],
   "source": [
    "cur.execute('''\n",
    "        SELECT * FROM employees\n",
    "        WHERE name LIKE '_A%'\n",
    "''');\n",
    "con.commit()\n",
    "rows = cur.fetchall()\n",
    "rows"
   ]
  },
  {
   "cell_type": "code",
   "execution_count": 39,
   "metadata": {},
   "outputs": [
    {
     "data": {
      "text/plain": [
       "[(3, 'PAMELA', 50, 'UON', 256000),\n",
       " (9, 'PAMELA', 50, 'UON', 256000),\n",
       " (11, 'Pamela', 40, 'Finance', 80000)]"
      ]
     },
     "execution_count": 39,
     "metadata": {},
     "output_type": "execute_result"
    }
   ],
   "source": [
    "cur.execute('''\n",
    "        SELECT * FROM employees\n",
    "        WHERE name LIKE 'P%'\n",
    "''');\n",
    "con.commit()\n",
    "rows = cur.fetchall()\n",
    "rows"
   ]
  },
  {
   "cell_type": "code",
   "execution_count": 41,
   "metadata": {},
   "outputs": [
    {
     "name": "stdout",
     "output_type": "stream",
     "text": [
      "(11, 'Pamela', 40, 'Finance', 80000)\n",
      "(13, 'Jabes', 50, 'Operations', 95000)\n"
     ]
    }
   ],
   "source": [
    "# minute: 1:04:25\n",
    "cur.execute('''\n",
    "        SELECT * FROM employees\n",
    "        WHERE salary BETWEEN 50000 AND 100000\n",
    "''');\n",
    "con.commit()\n",
    "rows = cur.fetchall()\n",
    "# print\n",
    "for row in rows:\n",
    "    print(row)"
   ]
  },
  {
   "cell_type": "code",
   "execution_count": 59,
   "metadata": {},
   "outputs": [
    {
     "name": "stdout",
     "output_type": "stream",
     "text": [
      "\n",
      "Notice: the comma after *\n",
      "\n",
      "(1, 'BRIAN', 30, 'EDU', 120000, None)\n",
      "(2, 'SAMUEL', 15, 'IT', 540000, 0)\n",
      "(3, 'PAMELA', 50, 'UON', 256000, None)\n",
      "(7, 'BRIAN', 30, 'EDU', 120000, None)\n",
      "(8, 'SAMUEL', 15, 'IT', 540000, 0)\n",
      "(9, 'PAMELA', 50, 'UON', 256000, None)\n",
      "(10, 'Lucy', 33, 'ICT', 30000, None)\n",
      "(11, 'Pamela', 40, 'Finance', 80000, None)\n",
      "(12, 'Makena', 32, 'IT', 120000, 0)\n",
      "(13, 'Jabes', 50, 'Operations', 95000, 0)\n"
     ]
    }
   ],
   "source": [
    "# minute: 1:07:15\n",
    "# filter data using CASE STATEMENT\n",
    "cur.execute('''\n",
    "        SELECT \n",
    "            *,\n",
    "        CASE \n",
    "            WHEN dept = 'IT'\n",
    "                THEN dept = \"DATA ANALYST\" \n",
    "            WHEN dept = 'Operations' \n",
    "                THEN dept = 'Administrator'\n",
    "            END AS roles\n",
    "        FROM employees\n",
    "\n",
    "''');\n",
    "con.commit()\n",
    "rows = cur.fetchall()\n",
    "# Alert\n",
    "print('\\nNotice: the comma after *\\n')\n",
    "\n",
    "# print\n",
    "for row in rows:\n",
    "    print(row)\n",
    "# rows"
   ]
  },
  {
   "cell_type": "code",
   "execution_count": 62,
   "metadata": {},
   "outputs": [
    {
     "name": "stdout",
     "output_type": "stream",
     "text": [
      "\n",
      "Notice: the comma after *\n",
      "\n",
      "(1, 'BRIAN', 30, 'EDU', 120000, 0)\n",
      "(2, 'SAMUEL', 15, 'IT', 540000, 'Executives')\n",
      "(3, 'PAMELA', 50, 'UON', 256000, 'Executives')\n",
      "(7, 'BRIAN', 30, 'EDU', 120000, 0)\n",
      "(8, 'SAMUEL', 15, 'IT', 540000, 'Executives')\n",
      "(9, 'PAMELA', 50, 'UON', 256000, 'Executives')\n",
      "(10, 'Lucy', 33, 'ICT', 30000, 'Executives')\n",
      "(11, 'Pamela', 40, 'Finance', 80000, 'Executives')\n",
      "(12, 'Makena', 32, 'IT', 120000, 'Executives')\n",
      "(13, 'Jabes', 50, 'Operations', 95000, 'Executives')\n"
     ]
    }
   ],
   "source": [
    "# minute: 1:07:15\n",
    "# filter data using CASE STATEMENT\n",
    "cur.execute('''\n",
    "        SELECT \n",
    "            *,\n",
    "        CASE \n",
    "            WHEN dept = 'EDU' THEN dept = \"EDUCATION\" \n",
    "        ELSE \"Executives\"\n",
    "        END AS roles\n",
    "        FROM employees\n",
    "\n",
    "''');\n",
    "con.commit()\n",
    "rows = cur.fetchall()\n",
    "# Alert\n",
    "print('\\nNotice: the comma after *\\n')\n",
    "\n",
    "# print\n",
    "for row in rows:\n",
    "    print(row)\n",
    "# rows"
   ]
  },
  {
   "cell_type": "code",
   "execution_count": 61,
   "metadata": {},
   "outputs": [
    {
     "data": {
      "text/plain": [
       "[(1, 'BRIAN', 30, 'EDU', 120000, 'EDUCATION'),\n",
       " (2, 'SAMUEL', 15, 'IT', 540000, 'TECHNOLOGY'),\n",
       " (3, 'PAMELA', 50, 'UON', 256000, 'Executives'),\n",
       " (7, 'BRIAN', 30, 'EDU', 120000, 'EDUCATION'),\n",
       " (8, 'SAMUEL', 15, 'IT', 540000, 'TECHNOLOGY'),\n",
       " (9, 'PAMELA', 50, 'UON', 256000, 'Executives'),\n",
       " (10, 'Lucy', 33, 'ICT', 30000, 'Executives'),\n",
       " (11, 'Pamela', 40, 'Finance', 80000, 'Executives'),\n",
       " (12, 'Makena', 32, 'IT', 120000, 'TECHNOLOGY'),\n",
       " (13, 'Jabes', 50, 'Operations', 95000, 'Executives')]"
      ]
     },
     "execution_count": 61,
     "metadata": {},
     "output_type": "execute_result"
    }
   ],
   "source": [
    "cur.execute('''\n",
    "    SELECT \n",
    "        *,\n",
    "        CASE \n",
    "            WHEN dept = 'EDU' THEN 'EDUCATION'\n",
    "            WHEN dept = 'IT' THEN 'TECHNOLOGY'\n",
    "            ELSE 'Executives'\n",
    "        END AS roles\n",
    "    FROM employees\n",
    "''')\n",
    "\n",
    "con.commit()\n",
    "rows = cur.fetchall()\n",
    "rows"
   ]
  },
  {
   "cell_type": "code",
   "execution_count": 67,
   "metadata": {},
   "outputs": [
    {
     "data": {
      "text/plain": [
       "[(1, 'BRIAN', 30, 'EDU', 120000, 'EDUCATION'),\n",
       " (2, 'SAMUEL', 15, 'IT', 540000, 'DATA ANAYLST'),\n",
       " (3, 'PAMELA', 50, 'UON', 256000, 'Officers'),\n",
       " (7, 'BRIAN', 30, 'EDU', 120000, 'EDUCATION'),\n",
       " (8, 'SAMUEL', 15, 'IT', 540000, 'DATA ANAYLST'),\n",
       " (9, 'PAMELA', 50, 'UON', 256000, 'Officers'),\n",
       " (10, 'Lucy', 33, 'ICT', 30000, 'Officers'),\n",
       " (11, 'Pamela', 40, 'Finance', 80000, 'Officers'),\n",
       " (12, 'Makena', 32, 'IT', 120000, 'DATA ANAYLST'),\n",
       " (13, 'Jabes', 50, 'Operations', 95000, 'Officers')]"
      ]
     },
     "execution_count": 67,
     "metadata": {},
     "output_type": "execute_result"
    }
   ],
   "source": [
    "cur.execute(\"\"\"\n",
    "        SELECT *,\n",
    "            CASE \n",
    "                WHEN dept = 'EDU' THEN 'EDUCATION' \n",
    "                WHEN dept = 'IT' THEN 'DATA ANAYLST'\n",
    "                ELSE 'Officers'\n",
    "            END AS roles\n",
    "        FROM employees\n",
    "\"\"\");\n",
    "con.commit()\n",
    "case_query = cur.fetchall()\n",
    "case_query"
   ]
  },
  {
   "cell_type": "code",
   "execution_count": null,
   "metadata": {},
   "outputs": [],
   "source": []
  }
 ],
 "metadata": {
  "kernelspec": {
   "display_name": "learn-env",
   "language": "python",
   "name": "python3"
  },
  "language_info": {
   "codemirror_mode": {
    "name": "ipython",
    "version": 3
   },
   "file_extension": ".py",
   "mimetype": "text/x-python",
   "name": "python",
   "nbconvert_exporter": "python",
   "pygments_lexer": "ipython3",
   "version": "3.8.5"
  }
 },
 "nbformat": 4,
 "nbformat_minor": 2
}
